{
  "cells": [
    {
      "metadata": {
        "trusted": true,
        "_uuid": "c259ab7c3cfb3b038626a45f263de859f192b1c8"
      },
      "cell_type": "code",
      "source": "import copy\nimport itertools\nimport time\nfrom pathlib import Path\nimport os\n\nimport torch\nimport torch.nn as nn\nfrom torch.utils.data import Dataset\nfrom torch.utils.data import DataLoader\n\nfrom torchvision import transforms\nimport torch.optim as optim\nfrom torch.optim import lr_scheduler\n\nfrom multiprocessing.dummy import Pool\nimport numpy as np\nimport pandas as pd\n\nimport torchvision\nfrom torchvision import datasets, models, transforms\n\nfrom PIL import Image\n\nimport matplotlib as mpl\nmpl_params = {\n    'figure.figsize': (10, 5),\n    'figure.dpi': 300,\n}\nfrom matplotlib import pyplot as plt\nmpl.rcParams.update(mpl_params)\n\nimport seaborn as sns\nsns.set()",
      "execution_count": 4,
      "outputs": []
    },
    {
      "metadata": {
        "_uuid": "6797f82b550dc9b4539497dcceb0108f71e04454"
      },
      "cell_type": "markdown",
      "source": "**Inception V2/V3 paper**\n\nhttps://arxiv.org/pdf/1512.00567v3.pdf\n\n**PyTorch InceptionV3 source**\n\nhttps://github.com/pytorch/vision/blob/master/torchvision/models/inception.py\n\n**InceptionV3 Tranfer Learning Gist (Some of the notebook from here)** \n\nhttps://gist.github.com/Prakashvanapalli/fba135778219c37bacc744d8dbfb43b1\n\n**PyTorch: Deep Learning (PyData Berlin 2018) (Most of notebook based off this talk/notebooks)** \n\nhttps://github.com/sotte/pytorch_tutorial/blob/master/notebooks/00_index.ipynb\n\n**InceptionV1 and InceptionV3 available from PyTorch**\n\n**InceptionV2 and InceptionV4 available from**\n\nhttps://github.com/Cadene/pretrained-models.pytorch\n"
    },
    {
      "metadata": {
        "_uuid": "6130818641cbc7e83b4e5a4fcb7f108bd0fc14ec"
      },
      "cell_type": "markdown",
      "source": "# Config"
    },
    {
      "metadata": {
        "trusted": true,
        "_uuid": "3f30202907e54f4788fd2e24f5b0631486cbcec7"
      },
      "cell_type": "code",
      "source": "GENERATE_FEATURES = False",
      "execution_count": null,
      "outputs": []
    },
    {
      "metadata": {
        "_uuid": "776d4b7256c17b44f7e22c4e5d23b0c15b3c9441"
      },
      "cell_type": "markdown",
      "source": "# TODO:\n\nLearn about this:\n\n    from sklearn.preprocessing import MultiLabelBinarizer\n    \nPillow SIMD Install in Conda env:\n\n    https://gist.github.com/soumith/01da3874bf014d8a8c53406c2b95d56b\n"
    },
    {
      "metadata": {
        "_uuid": "93299dccf566314240238bfc0556e1e14dd66e15"
      },
      "cell_type": "markdown",
      "source": "# Device"
    },
    {
      "metadata": {
        "trusted": true,
        "_uuid": "1a638cedbd14ff214fcdc95e99ae026a5b73128c"
      },
      "cell_type": "code",
      "source": "device = torch.device('cuda:0' if torch.cuda.is_available() else 'cpu')\ndevice",
      "execution_count": 5,
      "outputs": [
        {
          "output_type": "execute_result",
          "execution_count": 5,
          "data": {
            "text/plain": "device(type='cuda', index=0)"
          },
          "metadata": {}
        }
      ]
    },
    {
      "metadata": {
        "_uuid": "e704781aa51a7e7159374d7f3f20ea05307fad6b"
      },
      "cell_type": "markdown",
      "source": "# Dataset\n\nRequired to implement `__len__` and `__getitem__`. \n\n+ labels convenience attributes\n+ image display helpers\n+ ..."
    },
    {
      "metadata": {
        "trusted": true,
        "_uuid": "0ab450ab0edcc1fb3062c63dff551d48200654d3"
      },
      "cell_type": "code",
      "source": "ls ../input",
      "execution_count": 6,
      "outputs": [
        {
          "output_type": "stream",
          "text": "\u001b[0m\u001b[01;34mhuman-protein-atlas-image-classification\u001b[0m/  \u001b[01;34minceptionv3-wip\u001b[0m/\r\n",
          "name": "stdout"
        }
      ]
    },
    {
      "metadata": {
        "trusted": true,
        "_uuid": "65248726c0b9f1d8655110d73211cf1fb337e9e5"
      },
      "cell_type": "code",
      "source": "TRAIN_DIR = Path('../input/human-protein-atlas-image-classification/train')",
      "execution_count": 7,
      "outputs": []
    },
    {
      "metadata": {
        "trusted": true,
        "_uuid": "e331013f414d58d12f9aed0f8b338e6ea41fc534"
      },
      "cell_type": "code",
      "source": "LABELS = {\n    0: 'Nucleoplasm', \n    1: 'Nuclear membrane',   \n    2: 'Nucleoli',   \n    3: 'Nucleoli fibrillar center' ,  \n    4: 'Nuclear speckles',\n    5: 'Nuclear bodies',\n    6: 'Endoplasmic reticulum',   \n    7: 'Golgi apparatus',\n    8: 'Peroxisomes',\n    9: 'Endosomes',\n    10: 'Lysosomes',\n    11: 'Intermediate filaments',   \n    12: 'Actin filaments',\n    13: 'Focal adhesion sites',   \n    14: 'Microtubules',\n    15: 'Microtubule ends',   \n    16: 'Cytokinetic bridge',   \n    17: 'Mitotic spindle',\n    18: 'Microtubule organizing center',  \n    19: 'Centrosome',\n    20: 'Lipid droplets',   \n    21: 'Plasma membrane',   \n    22: 'Cell junctions', \n    23: 'Mitochondria',\n    24: 'Aggresome',\n    25: 'Cytosol',\n    26: 'Cytoplasmic bodies',   \n    27: 'Rods & rings'\n}\n\nLABEL_NAMES = list(LABELS.values())",
      "execution_count": 8,
      "outputs": []
    },
    {
      "metadata": {
        "trusted": true,
        "_uuid": "40c0b6e56d79e8166834ae2880b37799a5341c6e"
      },
      "cell_type": "code",
      "source": "df = pd.read_csv('../input/human-protein-atlas-image-classification/train.csv')\ndf.head()",
      "execution_count": 9,
      "outputs": [
        {
          "output_type": "execute_result",
          "execution_count": 9,
          "data": {
            "text/plain": "                                     Id   Target\n0  00070df0-bbc3-11e8-b2bc-ac1f6b6435d0     16 0\n1  000a6c98-bb9b-11e8-b2b9-ac1f6b6435d0  7 1 2 0\n2  000a9596-bbc4-11e8-b2bc-ac1f6b6435d0        5\n3  000c99ba-bba4-11e8-b2b9-ac1f6b6435d0        1\n4  001838f8-bbca-11e8-b2bc-ac1f6b6435d0       18",
            "text/html": "<div>\n<style scoped>\n    .dataframe tbody tr th:only-of-type {\n        vertical-align: middle;\n    }\n\n    .dataframe tbody tr th {\n        vertical-align: top;\n    }\n\n    .dataframe thead th {\n        text-align: right;\n    }\n</style>\n<table border=\"1\" class=\"dataframe\">\n  <thead>\n    <tr style=\"text-align: right;\">\n      <th></th>\n      <th>Id</th>\n      <th>Target</th>\n    </tr>\n  </thead>\n  <tbody>\n    <tr>\n      <th>0</th>\n      <td>00070df0-bbc3-11e8-b2bc-ac1f6b6435d0</td>\n      <td>16 0</td>\n    </tr>\n    <tr>\n      <th>1</th>\n      <td>000a6c98-bb9b-11e8-b2b9-ac1f6b6435d0</td>\n      <td>7 1 2 0</td>\n    </tr>\n    <tr>\n      <th>2</th>\n      <td>000a9596-bbc4-11e8-b2bc-ac1f6b6435d0</td>\n      <td>5</td>\n    </tr>\n    <tr>\n      <th>3</th>\n      <td>000c99ba-bba4-11e8-b2b9-ac1f6b6435d0</td>\n      <td>1</td>\n    </tr>\n    <tr>\n      <th>4</th>\n      <td>001838f8-bbca-11e8-b2bc-ac1f6b6435d0</td>\n      <td>18</td>\n    </tr>\n  </tbody>\n</table>\n</div>"
          },
          "metadata": {}
        }
      ]
    },
    {
      "metadata": {
        "trusted": true,
        "_uuid": "1b46ec081087a75038e721e73badcaeeac21d148"
      },
      "cell_type": "code",
      "source": "df.iloc[1].Target.split()",
      "execution_count": 10,
      "outputs": [
        {
          "output_type": "execute_result",
          "execution_count": 10,
          "data": {
            "text/plain": "['7', '1', '2', '0']"
          },
          "metadata": {}
        }
      ]
    },
    {
      "metadata": {
        "trusted": true,
        "_uuid": "7c7360c47d2bf956a0278ec87f1ee36ca034e69c"
      },
      "cell_type": "code",
      "source": "ls '../input/human-protein-atlas-image-classification/train/' | head",
      "execution_count": 11,
      "outputs": [
        {
          "output_type": "stream",
          "text": "00070df0-bbc3-11e8-b2bc-ac1f6b6435d0_blue.png\n00070df0-bbc3-11e8-b2bc-ac1f6b6435d0_green.png\n00070df0-bbc3-11e8-b2bc-ac1f6b6435d0_red.png\n00070df0-bbc3-11e8-b2bc-ac1f6b6435d0_yellow.png\n000a6c98-bb9b-11e8-b2b9-ac1f6b6435d0_blue.png\n000a6c98-bb9b-11e8-b2b9-ac1f6b6435d0_green.png\n000a6c98-bb9b-11e8-b2b9-ac1f6b6435d0_red.png\n000a6c98-bb9b-11e8-b2b9-ac1f6b6435d0_yellow.png\n000a9596-bbc4-11e8-b2bc-ac1f6b6435d0_blue.png\n000a9596-bbc4-11e8-b2bc-ac1f6b6435d0_green.png\nls: write error\n",
          "name": "stdout"
        }
      ]
    },
    {
      "metadata": {
        "trusted": true,
        "_uuid": "6c8d69d944c8c8a51a5f246e0f5413af149960f3"
      },
      "cell_type": "code",
      "source": "class ProteinDataset(Dataset):\n\n    def __init__(self, train_df, images_dir, transform=None):            \n        self.df = train_df.copy()  # TODO: Rename. Actualy replace df maybe?\n        self._dir = images_dir # TODO: PIL check?\n        self.transform = transform\n        self.p = Pool()\n\n    def __len__(self):\n        return len(self.df)\n    \n    def mp_load(self, path):\n        pil_im = Image.open(path)\n        return np.array(pil_im, np.uint8)\n                                      \n    def __getitem__(self, key):\n        id_ = self.df.iloc[key].Id\n        \n        colors = ['red', 'green', 'blue', 'yellow']\n        image_paths = [self._dir / f'{id_}_{c}.png' for c in colors]\n        r, g, b, y = self.p.map(self.mp_load, image_paths)\n\n        rgb = np.stack([\n            r // 2 + y // 2,\n            g // 2 + y // 2,\n            b // 2\n        ], axis=2)\n        \n        rgb = np.array(Image.fromarray(rgb).resize((299, 299)))  # InceptionV3 input\n        rgb = np.array(rgb) / 255.0  # 0.0 - 1.0 floats Better way?\n        \n        y = self.df.iloc[key].Target.split()\n        \n        if transform:\n            X = self.transform(rgb)\n        else:\n            X = rgb\n            \n        return X, y  # TODO: Generator...",
      "execution_count": 12,
      "outputs": []
    },
    {
      "metadata": {
        "_uuid": "117ff6d428c2301d5cd3d76761db8dd8ee9a74cd"
      },
      "cell_type": "markdown",
      "source": "# Transforms\n\n*Get pillow-simd*  https://github.com/uploadcare/pillow-simd /  http://python-pillow.org/pillow-perf/\n\n1. How to combine images\n2. PIL -> Tensor\n3. Normalize?\n\n+ Augment labels with least samples?\n+ ..."
    },
    {
      "metadata": {
        "trusted": true,
        "_uuid": "9207698551ecaad9231efc9149c51b50f4336e6a"
      },
      "cell_type": "code",
      "source": "transform = transforms.Compose([\n    transforms.transforms.ToTensor()\n])",
      "execution_count": 13,
      "outputs": []
    },
    {
      "metadata": {
        "trusted": true,
        "_uuid": "8b1695b7ecfef947753a6638b1f3dca220343b7b"
      },
      "cell_type": "code",
      "source": "val_ds = ProteinDataset(\n    train_df=df,\n    images_dir=TRAIN_DIR,\n    transform=transform\n)",
      "execution_count": 14,
      "outputs": []
    },
    {
      "metadata": {
        "trusted": true,
        "_uuid": "5d99f55043f3f5ee8d8cfb8ae5bc35e81d544c18"
      },
      "cell_type": "code",
      "source": "val_ds[0]",
      "execution_count": 15,
      "outputs": [
        {
          "output_type": "execute_result",
          "execution_count": 15,
          "data": {
            "text/plain": "(tensor([[[0.0157, 0.0000, 0.0000,  ..., 0.0039, 0.0078, 0.0000],\n          [0.0000, 0.0000, 0.0235,  ..., 0.0039, 0.0078, 0.0275],\n          [0.0078, 0.0157, 0.0000,  ..., 0.0118, 0.0549, 0.0275],\n          ...,\n          [0.0078, 0.0039, 0.0118,  ..., 0.0314, 0.0000, 0.0588],\n          [0.0196, 0.0431, 0.0275,  ..., 0.0431, 0.0667, 0.0000],\n          [0.0000, 0.0078, 0.0000,  ..., 0.0157, 0.0039, 0.0039]],\n \n         [[0.0157, 0.0510, 0.0000,  ..., 0.0000, 0.0078, 0.0000],\n          [0.1020, 0.0706, 0.0510,  ..., 0.0039, 0.0353, 0.0000],\n          [0.0275, 0.0431, 0.0706,  ..., 0.0314, 0.0431, 0.0196],\n          ...,\n          [0.0078, 0.0000, 0.0314,  ..., 0.0431, 0.0000, 0.0039],\n          [0.0235, 0.0275, 0.0235,  ..., 0.0039, 0.0157, 0.0039],\n          [0.0000, 0.0039, 0.0000,  ..., 0.0118, 0.0000, 0.0000]],\n \n         [[0.0000, 0.0392, 0.0078,  ..., 0.0235, 0.0157, 0.0000],\n          [0.0235, 0.0275, 0.0196,  ..., 0.0078, 0.0000, 0.0000],\n          [0.0275, 0.0000, 0.0157,  ..., 0.0118, 0.0000, 0.0000],\n          ...,\n          [0.0000, 0.0000, 0.0000,  ..., 0.0000, 0.0000, 0.0000],\n          [0.0078, 0.0000, 0.0039,  ..., 0.0000, 0.0000, 0.0000],\n          [0.0039, 0.0039, 0.0000,  ..., 0.0000, 0.0000, 0.0000]]],\n        dtype=torch.float64), ['16', '0'])"
          },
          "metadata": {}
        }
      ]
    },
    {
      "metadata": {
        "_uuid": "3af8cc60ff3ac28da3b00860fab36bcdec789930"
      },
      "cell_type": "markdown",
      "source": "# DataLoader"
    },
    {
      "metadata": {
        "trusted": true,
        "_uuid": "e85d78c8bbea1c6c443135dd65a83ad8fc53779a"
      },
      "cell_type": "code",
      "source": "val_dl = DataLoader(\n    val_ds,\n    batch_size=256,\n    shuffle=False,\n    num_workers=0,\n)",
      "execution_count": 16,
      "outputs": []
    },
    {
      "metadata": {
        "_uuid": "6de40a91ddea0217358d398e3254145307efa242"
      },
      "cell_type": "markdown",
      "source": "# Sampler"
    },
    {
      "metadata": {
        "_uuid": "668ad24448707f1da581c7d73b76fa7c19568c53"
      },
      "cell_type": "markdown",
      "source": "# PreTrained Model"
    },
    {
      "metadata": {
        "trusted": true,
        "_uuid": "57e17d6d06824561ec9287cbeb218241269a58c8"
      },
      "cell_type": "code",
      "source": "model = torchvision.models.inception_v3(pretrained=True).double()",
      "execution_count": 17,
      "outputs": [
        {
          "output_type": "stream",
          "text": "Downloading: \"https://download.pytorch.org/models/inception_v3_google-1a9a5a14.pth\" to /tmp/.torch/models/inception_v3_google-1a9a5a14.pth\n100%|██████████| 108857766/108857766 [00:02<00:00, 46907699.19it/s]\n",
          "name": "stderr"
        }
      ]
    },
    {
      "metadata": {
        "trusted": true,
        "_uuid": "2adf79de4d97778cc45584df77a4def6da16d855"
      },
      "cell_type": "code",
      "source": "model.to(device)",
      "execution_count": 18,
      "outputs": [
        {
          "output_type": "execute_result",
          "execution_count": 18,
          "data": {
            "text/plain": "Inception3(\n  (Conv2d_1a_3x3): BasicConv2d(\n    (conv): Conv2d(3, 32, kernel_size=(3, 3), stride=(2, 2), bias=False)\n    (bn): BatchNorm2d(32, eps=0.001, momentum=0.1, affine=True, track_running_stats=True)\n  )\n  (Conv2d_2a_3x3): BasicConv2d(\n    (conv): Conv2d(32, 32, kernel_size=(3, 3), stride=(1, 1), bias=False)\n    (bn): BatchNorm2d(32, eps=0.001, momentum=0.1, affine=True, track_running_stats=True)\n  )\n  (Conv2d_2b_3x3): BasicConv2d(\n    (conv): Conv2d(32, 64, kernel_size=(3, 3), stride=(1, 1), padding=(1, 1), bias=False)\n    (bn): BatchNorm2d(64, eps=0.001, momentum=0.1, affine=True, track_running_stats=True)\n  )\n  (Conv2d_3b_1x1): BasicConv2d(\n    (conv): Conv2d(64, 80, kernel_size=(1, 1), stride=(1, 1), bias=False)\n    (bn): BatchNorm2d(80, eps=0.001, momentum=0.1, affine=True, track_running_stats=True)\n  )\n  (Conv2d_4a_3x3): BasicConv2d(\n    (conv): Conv2d(80, 192, kernel_size=(3, 3), stride=(1, 1), bias=False)\n    (bn): BatchNorm2d(192, eps=0.001, momentum=0.1, affine=True, track_running_stats=True)\n  )\n  (Mixed_5b): InceptionA(\n    (branch1x1): BasicConv2d(\n      (conv): Conv2d(192, 64, kernel_size=(1, 1), stride=(1, 1), bias=False)\n      (bn): BatchNorm2d(64, eps=0.001, momentum=0.1, affine=True, track_running_stats=True)\n    )\n    (branch5x5_1): BasicConv2d(\n      (conv): Conv2d(192, 48, kernel_size=(1, 1), stride=(1, 1), bias=False)\n      (bn): BatchNorm2d(48, eps=0.001, momentum=0.1, affine=True, track_running_stats=True)\n    )\n    (branch5x5_2): BasicConv2d(\n      (conv): Conv2d(48, 64, kernel_size=(5, 5), stride=(1, 1), padding=(2, 2), bias=False)\n      (bn): BatchNorm2d(64, eps=0.001, momentum=0.1, affine=True, track_running_stats=True)\n    )\n    (branch3x3dbl_1): BasicConv2d(\n      (conv): Conv2d(192, 64, kernel_size=(1, 1), stride=(1, 1), bias=False)\n      (bn): BatchNorm2d(64, eps=0.001, momentum=0.1, affine=True, track_running_stats=True)\n    )\n    (branch3x3dbl_2): BasicConv2d(\n      (conv): Conv2d(64, 96, kernel_size=(3, 3), stride=(1, 1), padding=(1, 1), bias=False)\n      (bn): BatchNorm2d(96, eps=0.001, momentum=0.1, affine=True, track_running_stats=True)\n    )\n    (branch3x3dbl_3): BasicConv2d(\n      (conv): Conv2d(96, 96, kernel_size=(3, 3), stride=(1, 1), padding=(1, 1), bias=False)\n      (bn): BatchNorm2d(96, eps=0.001, momentum=0.1, affine=True, track_running_stats=True)\n    )\n    (branch_pool): BasicConv2d(\n      (conv): Conv2d(192, 32, kernel_size=(1, 1), stride=(1, 1), bias=False)\n      (bn): BatchNorm2d(32, eps=0.001, momentum=0.1, affine=True, track_running_stats=True)\n    )\n  )\n  (Mixed_5c): InceptionA(\n    (branch1x1): BasicConv2d(\n      (conv): Conv2d(256, 64, kernel_size=(1, 1), stride=(1, 1), bias=False)\n      (bn): BatchNorm2d(64, eps=0.001, momentum=0.1, affine=True, track_running_stats=True)\n    )\n    (branch5x5_1): BasicConv2d(\n      (conv): Conv2d(256, 48, kernel_size=(1, 1), stride=(1, 1), bias=False)\n      (bn): BatchNorm2d(48, eps=0.001, momentum=0.1, affine=True, track_running_stats=True)\n    )\n    (branch5x5_2): BasicConv2d(\n      (conv): Conv2d(48, 64, kernel_size=(5, 5), stride=(1, 1), padding=(2, 2), bias=False)\n      (bn): BatchNorm2d(64, eps=0.001, momentum=0.1, affine=True, track_running_stats=True)\n    )\n    (branch3x3dbl_1): BasicConv2d(\n      (conv): Conv2d(256, 64, kernel_size=(1, 1), stride=(1, 1), bias=False)\n      (bn): BatchNorm2d(64, eps=0.001, momentum=0.1, affine=True, track_running_stats=True)\n    )\n    (branch3x3dbl_2): BasicConv2d(\n      (conv): Conv2d(64, 96, kernel_size=(3, 3), stride=(1, 1), padding=(1, 1), bias=False)\n      (bn): BatchNorm2d(96, eps=0.001, momentum=0.1, affine=True, track_running_stats=True)\n    )\n    (branch3x3dbl_3): BasicConv2d(\n      (conv): Conv2d(96, 96, kernel_size=(3, 3), stride=(1, 1), padding=(1, 1), bias=False)\n      (bn): BatchNorm2d(96, eps=0.001, momentum=0.1, affine=True, track_running_stats=True)\n    )\n    (branch_pool): BasicConv2d(\n      (conv): Conv2d(256, 64, kernel_size=(1, 1), stride=(1, 1), bias=False)\n      (bn): BatchNorm2d(64, eps=0.001, momentum=0.1, affine=True, track_running_stats=True)\n    )\n  )\n  (Mixed_5d): InceptionA(\n    (branch1x1): BasicConv2d(\n      (conv): Conv2d(288, 64, kernel_size=(1, 1), stride=(1, 1), bias=False)\n      (bn): BatchNorm2d(64, eps=0.001, momentum=0.1, affine=True, track_running_stats=True)\n    )\n    (branch5x5_1): BasicConv2d(\n      (conv): Conv2d(288, 48, kernel_size=(1, 1), stride=(1, 1), bias=False)\n      (bn): BatchNorm2d(48, eps=0.001, momentum=0.1, affine=True, track_running_stats=True)\n    )\n    (branch5x5_2): BasicConv2d(\n      (conv): Conv2d(48, 64, kernel_size=(5, 5), stride=(1, 1), padding=(2, 2), bias=False)\n      (bn): BatchNorm2d(64, eps=0.001, momentum=0.1, affine=True, track_running_stats=True)\n    )\n    (branch3x3dbl_1): BasicConv2d(\n      (conv): Conv2d(288, 64, kernel_size=(1, 1), stride=(1, 1), bias=False)\n      (bn): BatchNorm2d(64, eps=0.001, momentum=0.1, affine=True, track_running_stats=True)\n    )\n    (branch3x3dbl_2): BasicConv2d(\n      (conv): Conv2d(64, 96, kernel_size=(3, 3), stride=(1, 1), padding=(1, 1), bias=False)\n      (bn): BatchNorm2d(96, eps=0.001, momentum=0.1, affine=True, track_running_stats=True)\n    )\n    (branch3x3dbl_3): BasicConv2d(\n      (conv): Conv2d(96, 96, kernel_size=(3, 3), stride=(1, 1), padding=(1, 1), bias=False)\n      (bn): BatchNorm2d(96, eps=0.001, momentum=0.1, affine=True, track_running_stats=True)\n    )\n    (branch_pool): BasicConv2d(\n      (conv): Conv2d(288, 64, kernel_size=(1, 1), stride=(1, 1), bias=False)\n      (bn): BatchNorm2d(64, eps=0.001, momentum=0.1, affine=True, track_running_stats=True)\n    )\n  )\n  (Mixed_6a): InceptionB(\n    (branch3x3): BasicConv2d(\n      (conv): Conv2d(288, 384, kernel_size=(3, 3), stride=(2, 2), bias=False)\n      (bn): BatchNorm2d(384, eps=0.001, momentum=0.1, affine=True, track_running_stats=True)\n    )\n    (branch3x3dbl_1): BasicConv2d(\n      (conv): Conv2d(288, 64, kernel_size=(1, 1), stride=(1, 1), bias=False)\n      (bn): BatchNorm2d(64, eps=0.001, momentum=0.1, affine=True, track_running_stats=True)\n    )\n    (branch3x3dbl_2): BasicConv2d(\n      (conv): Conv2d(64, 96, kernel_size=(3, 3), stride=(1, 1), padding=(1, 1), bias=False)\n      (bn): BatchNorm2d(96, eps=0.001, momentum=0.1, affine=True, track_running_stats=True)\n    )\n    (branch3x3dbl_3): BasicConv2d(\n      (conv): Conv2d(96, 96, kernel_size=(3, 3), stride=(2, 2), bias=False)\n      (bn): BatchNorm2d(96, eps=0.001, momentum=0.1, affine=True, track_running_stats=True)\n    )\n  )\n  (Mixed_6b): InceptionC(\n    (branch1x1): BasicConv2d(\n      (conv): Conv2d(768, 192, kernel_size=(1, 1), stride=(1, 1), bias=False)\n      (bn): BatchNorm2d(192, eps=0.001, momentum=0.1, affine=True, track_running_stats=True)\n    )\n    (branch7x7_1): BasicConv2d(\n      (conv): Conv2d(768, 128, kernel_size=(1, 1), stride=(1, 1), bias=False)\n      (bn): BatchNorm2d(128, eps=0.001, momentum=0.1, affine=True, track_running_stats=True)\n    )\n    (branch7x7_2): BasicConv2d(\n      (conv): Conv2d(128, 128, kernel_size=(1, 7), stride=(1, 1), padding=(0, 3), bias=False)\n      (bn): BatchNorm2d(128, eps=0.001, momentum=0.1, affine=True, track_running_stats=True)\n    )\n    (branch7x7_3): BasicConv2d(\n      (conv): Conv2d(128, 192, kernel_size=(7, 1), stride=(1, 1), padding=(3, 0), bias=False)\n      (bn): BatchNorm2d(192, eps=0.001, momentum=0.1, affine=True, track_running_stats=True)\n    )\n    (branch7x7dbl_1): BasicConv2d(\n      (conv): Conv2d(768, 128, kernel_size=(1, 1), stride=(1, 1), bias=False)\n      (bn): BatchNorm2d(128, eps=0.001, momentum=0.1, affine=True, track_running_stats=True)\n    )\n    (branch7x7dbl_2): BasicConv2d(\n      (conv): Conv2d(128, 128, kernel_size=(7, 1), stride=(1, 1), padding=(3, 0), bias=False)\n      (bn): BatchNorm2d(128, eps=0.001, momentum=0.1, affine=True, track_running_stats=True)\n    )\n    (branch7x7dbl_3): BasicConv2d(\n      (conv): Conv2d(128, 128, kernel_size=(1, 7), stride=(1, 1), padding=(0, 3), bias=False)\n      (bn): BatchNorm2d(128, eps=0.001, momentum=0.1, affine=True, track_running_stats=True)\n    )\n    (branch7x7dbl_4): BasicConv2d(\n      (conv): Conv2d(128, 128, kernel_size=(7, 1), stride=(1, 1), padding=(3, 0), bias=False)\n      (bn): BatchNorm2d(128, eps=0.001, momentum=0.1, affine=True, track_running_stats=True)\n    )\n    (branch7x7dbl_5): BasicConv2d(\n      (conv): Conv2d(128, 192, kernel_size=(1, 7), stride=(1, 1), padding=(0, 3), bias=False)\n      (bn): BatchNorm2d(192, eps=0.001, momentum=0.1, affine=True, track_running_stats=True)\n    )\n    (branch_pool): BasicConv2d(\n      (conv): Conv2d(768, 192, kernel_size=(1, 1), stride=(1, 1), bias=False)\n      (bn): BatchNorm2d(192, eps=0.001, momentum=0.1, affine=True, track_running_stats=True)\n    )\n  )\n  (Mixed_6c): InceptionC(\n    (branch1x1): BasicConv2d(\n      (conv): Conv2d(768, 192, kernel_size=(1, 1), stride=(1, 1), bias=False)\n      (bn): BatchNorm2d(192, eps=0.001, momentum=0.1, affine=True, track_running_stats=True)\n    )\n    (branch7x7_1): BasicConv2d(\n      (conv): Conv2d(768, 160, kernel_size=(1, 1), stride=(1, 1), bias=False)\n      (bn): BatchNorm2d(160, eps=0.001, momentum=0.1, affine=True, track_running_stats=True)\n    )\n    (branch7x7_2): BasicConv2d(\n      (conv): Conv2d(160, 160, kernel_size=(1, 7), stride=(1, 1), padding=(0, 3), bias=False)\n      (bn): BatchNorm2d(160, eps=0.001, momentum=0.1, affine=True, track_running_stats=True)\n    )\n    (branch7x7_3): BasicConv2d(\n      (conv): Conv2d(160, 192, kernel_size=(7, 1), stride=(1, 1), padding=(3, 0), bias=False)\n      (bn): BatchNorm2d(192, eps=0.001, momentum=0.1, affine=True, track_running_stats=True)\n    )\n    (branch7x7dbl_1): BasicConv2d(\n      (conv): Conv2d(768, 160, kernel_size=(1, 1), stride=(1, 1), bias=False)\n      (bn): BatchNorm2d(160, eps=0.001, momentum=0.1, affine=True, track_running_stats=True)\n    )\n    (branch7x7dbl_2): BasicConv2d(\n      (conv): Conv2d(160, 160, kernel_size=(7, 1), stride=(1, 1), padding=(3, 0), bias=False)\n      (bn): BatchNorm2d(160, eps=0.001, momentum=0.1, affine=True, track_running_stats=True)\n    )\n    (branch7x7dbl_3): BasicConv2d(\n      (conv): Conv2d(160, 160, kernel_size=(1, 7), stride=(1, 1), padding=(0, 3), bias=False)\n      (bn): BatchNorm2d(160, eps=0.001, momentum=0.1, affine=True, track_running_stats=True)\n    )\n    (branch7x7dbl_4): BasicConv2d(\n      (conv): Conv2d(160, 160, kernel_size=(7, 1), stride=(1, 1), padding=(3, 0), bias=False)\n      (bn): BatchNorm2d(160, eps=0.001, momentum=0.1, affine=True, track_running_stats=True)\n    )\n    (branch7x7dbl_5): BasicConv2d(\n      (conv): Conv2d(160, 192, kernel_size=(1, 7), stride=(1, 1), padding=(0, 3), bias=False)\n      (bn): BatchNorm2d(192, eps=0.001, momentum=0.1, affine=True, track_running_stats=True)\n    )\n    (branch_pool): BasicConv2d(\n      (conv): Conv2d(768, 192, kernel_size=(1, 1), stride=(1, 1), bias=False)\n      (bn): BatchNorm2d(192, eps=0.001, momentum=0.1, affine=True, track_running_stats=True)\n    )\n  )\n  (Mixed_6d): InceptionC(\n    (branch1x1): BasicConv2d(\n      (conv): Conv2d(768, 192, kernel_size=(1, 1), stride=(1, 1), bias=False)\n      (bn): BatchNorm2d(192, eps=0.001, momentum=0.1, affine=True, track_running_stats=True)\n    )\n    (branch7x7_1): BasicConv2d(\n      (conv): Conv2d(768, 160, kernel_size=(1, 1), stride=(1, 1), bias=False)\n      (bn): BatchNorm2d(160, eps=0.001, momentum=0.1, affine=True, track_running_stats=True)\n    )\n    (branch7x7_2): BasicConv2d(\n      (conv): Conv2d(160, 160, kernel_size=(1, 7), stride=(1, 1), padding=(0, 3), bias=False)\n      (bn): BatchNorm2d(160, eps=0.001, momentum=0.1, affine=True, track_running_stats=True)\n    )\n    (branch7x7_3): BasicConv2d(\n      (conv): Conv2d(160, 192, kernel_size=(7, 1), stride=(1, 1), padding=(3, 0), bias=False)\n      (bn): BatchNorm2d(192, eps=0.001, momentum=0.1, affine=True, track_running_stats=True)\n    )\n    (branch7x7dbl_1): BasicConv2d(\n      (conv): Conv2d(768, 160, kernel_size=(1, 1), stride=(1, 1), bias=False)\n      (bn): BatchNorm2d(160, eps=0.001, momentum=0.1, affine=True, track_running_stats=True)\n    )\n    (branch7x7dbl_2): BasicConv2d(\n      (conv): Conv2d(160, 160, kernel_size=(7, 1), stride=(1, 1), padding=(3, 0), bias=False)\n      (bn): BatchNorm2d(160, eps=0.001, momentum=0.1, affine=True, track_running_stats=True)\n    )\n    (branch7x7dbl_3): BasicConv2d(\n      (conv): Conv2d(160, 160, kernel_size=(1, 7), stride=(1, 1), padding=(0, 3), bias=False)\n      (bn): BatchNorm2d(160, eps=0.001, momentum=0.1, affine=True, track_running_stats=True)\n    )\n    (branch7x7dbl_4): BasicConv2d(\n      (conv): Conv2d(160, 160, kernel_size=(7, 1), stride=(1, 1), padding=(3, 0), bias=False)\n      (bn): BatchNorm2d(160, eps=0.001, momentum=0.1, affine=True, track_running_stats=True)\n    )\n    (branch7x7dbl_5): BasicConv2d(\n      (conv): Conv2d(160, 192, kernel_size=(1, 7), stride=(1, 1), padding=(0, 3), bias=False)\n      (bn): BatchNorm2d(192, eps=0.001, momentum=0.1, affine=True, track_running_stats=True)\n    )\n    (branch_pool): BasicConv2d(\n      (conv): Conv2d(768, 192, kernel_size=(1, 1), stride=(1, 1), bias=False)\n      (bn): BatchNorm2d(192, eps=0.001, momentum=0.1, affine=True, track_running_stats=True)\n    )\n  )\n  (Mixed_6e): InceptionC(\n    (branch1x1): BasicConv2d(\n      (conv): Conv2d(768, 192, kernel_size=(1, 1), stride=(1, 1), bias=False)\n      (bn): BatchNorm2d(192, eps=0.001, momentum=0.1, affine=True, track_running_stats=True)\n    )\n    (branch7x7_1): BasicConv2d(\n      (conv): Conv2d(768, 192, kernel_size=(1, 1), stride=(1, 1), bias=False)\n      (bn): BatchNorm2d(192, eps=0.001, momentum=0.1, affine=True, track_running_stats=True)\n    )\n    (branch7x7_2): BasicConv2d(\n      (conv): Conv2d(192, 192, kernel_size=(1, 7), stride=(1, 1), padding=(0, 3), bias=False)\n      (bn): BatchNorm2d(192, eps=0.001, momentum=0.1, affine=True, track_running_stats=True)\n    )\n    (branch7x7_3): BasicConv2d(\n      (conv): Conv2d(192, 192, kernel_size=(7, 1), stride=(1, 1), padding=(3, 0), bias=False)\n      (bn): BatchNorm2d(192, eps=0.001, momentum=0.1, affine=True, track_running_stats=True)\n    )\n    (branch7x7dbl_1): BasicConv2d(\n      (conv): Conv2d(768, 192, kernel_size=(1, 1), stride=(1, 1), bias=False)\n      (bn): BatchNorm2d(192, eps=0.001, momentum=0.1, affine=True, track_running_stats=True)\n    )\n    (branch7x7dbl_2): BasicConv2d(\n      (conv): Conv2d(192, 192, kernel_size=(7, 1), stride=(1, 1), padding=(3, 0), bias=False)\n      (bn): BatchNorm2d(192, eps=0.001, momentum=0.1, affine=True, track_running_stats=True)\n    )\n    (branch7x7dbl_3): BasicConv2d(\n      (conv): Conv2d(192, 192, kernel_size=(1, 7), stride=(1, 1), padding=(0, 3), bias=False)\n      (bn): BatchNorm2d(192, eps=0.001, momentum=0.1, affine=True, track_running_stats=True)\n    )\n    (branch7x7dbl_4): BasicConv2d(\n      (conv): Conv2d(192, 192, kernel_size=(7, 1), stride=(1, 1), padding=(3, 0), bias=False)\n      (bn): BatchNorm2d(192, eps=0.001, momentum=0.1, affine=True, track_running_stats=True)\n    )\n    (branch7x7dbl_5): BasicConv2d(\n      (conv): Conv2d(192, 192, kernel_size=(1, 7), stride=(1, 1), padding=(0, 3), bias=False)\n      (bn): BatchNorm2d(192, eps=0.001, momentum=0.1, affine=True, track_running_stats=True)\n    )\n    (branch_pool): BasicConv2d(\n      (conv): Conv2d(768, 192, kernel_size=(1, 1), stride=(1, 1), bias=False)\n      (bn): BatchNorm2d(192, eps=0.001, momentum=0.1, affine=True, track_running_stats=True)\n    )\n  )\n  (AuxLogits): InceptionAux(\n    (conv0): BasicConv2d(\n      (conv): Conv2d(768, 128, kernel_size=(1, 1), stride=(1, 1), bias=False)\n      (bn): BatchNorm2d(128, eps=0.001, momentum=0.1, affine=True, track_running_stats=True)\n    )\n    (conv1): BasicConv2d(\n      (conv): Conv2d(128, 768, kernel_size=(5, 5), stride=(1, 1), bias=False)\n      (bn): BatchNorm2d(768, eps=0.001, momentum=0.1, affine=True, track_running_stats=True)\n    )\n    (fc): Linear(in_features=768, out_features=1000, bias=True)\n  )\n  (Mixed_7a): InceptionD(\n    (branch3x3_1): BasicConv2d(\n      (conv): Conv2d(768, 192, kernel_size=(1, 1), stride=(1, 1), bias=False)\n      (bn): BatchNorm2d(192, eps=0.001, momentum=0.1, affine=True, track_running_stats=True)\n    )\n    (branch3x3_2): BasicConv2d(\n      (conv): Conv2d(192, 320, kernel_size=(3, 3), stride=(2, 2), bias=False)\n      (bn): BatchNorm2d(320, eps=0.001, momentum=0.1, affine=True, track_running_stats=True)\n    )\n    (branch7x7x3_1): BasicConv2d(\n      (conv): Conv2d(768, 192, kernel_size=(1, 1), stride=(1, 1), bias=False)\n      (bn): BatchNorm2d(192, eps=0.001, momentum=0.1, affine=True, track_running_stats=True)\n    )\n    (branch7x7x3_2): BasicConv2d(\n      (conv): Conv2d(192, 192, kernel_size=(1, 7), stride=(1, 1), padding=(0, 3), bias=False)\n      (bn): BatchNorm2d(192, eps=0.001, momentum=0.1, affine=True, track_running_stats=True)\n    )\n    (branch7x7x3_3): BasicConv2d(\n      (conv): Conv2d(192, 192, kernel_size=(7, 1), stride=(1, 1), padding=(3, 0), bias=False)\n      (bn): BatchNorm2d(192, eps=0.001, momentum=0.1, affine=True, track_running_stats=True)\n    )\n    (branch7x7x3_4): BasicConv2d(\n      (conv): Conv2d(192, 192, kernel_size=(3, 3), stride=(2, 2), bias=False)\n      (bn): BatchNorm2d(192, eps=0.001, momentum=0.1, affine=True, track_running_stats=True)\n    )\n  )\n  (Mixed_7b): InceptionE(\n    (branch1x1): BasicConv2d(\n      (conv): Conv2d(1280, 320, kernel_size=(1, 1), stride=(1, 1), bias=False)\n      (bn): BatchNorm2d(320, eps=0.001, momentum=0.1, affine=True, track_running_stats=True)\n    )\n    (branch3x3_1): BasicConv2d(\n      (conv): Conv2d(1280, 384, kernel_size=(1, 1), stride=(1, 1), bias=False)\n      (bn): BatchNorm2d(384, eps=0.001, momentum=0.1, affine=True, track_running_stats=True)\n    )\n    (branch3x3_2a): BasicConv2d(\n      (conv): Conv2d(384, 384, kernel_size=(1, 3), stride=(1, 1), padding=(0, 1), bias=False)\n      (bn): BatchNorm2d(384, eps=0.001, momentum=0.1, affine=True, track_running_stats=True)\n    )\n    (branch3x3_2b): BasicConv2d(\n      (conv): Conv2d(384, 384, kernel_size=(3, 1), stride=(1, 1), padding=(1, 0), bias=False)\n      (bn): BatchNorm2d(384, eps=0.001, momentum=0.1, affine=True, track_running_stats=True)\n    )\n    (branch3x3dbl_1): BasicConv2d(\n      (conv): Conv2d(1280, 448, kernel_size=(1, 1), stride=(1, 1), bias=False)\n      (bn): BatchNorm2d(448, eps=0.001, momentum=0.1, affine=True, track_running_stats=True)\n    )\n    (branch3x3dbl_2): BasicConv2d(\n      (conv): Conv2d(448, 384, kernel_size=(3, 3), stride=(1, 1), padding=(1, 1), bias=False)\n      (bn): BatchNorm2d(384, eps=0.001, momentum=0.1, affine=True, track_running_stats=True)\n    )\n    (branch3x3dbl_3a): BasicConv2d(\n      (conv): Conv2d(384, 384, kernel_size=(1, 3), stride=(1, 1), padding=(0, 1), bias=False)\n      (bn): BatchNorm2d(384, eps=0.001, momentum=0.1, affine=True, track_running_stats=True)\n    )\n    (branch3x3dbl_3b): BasicConv2d(\n      (conv): Conv2d(384, 384, kernel_size=(3, 1), stride=(1, 1), padding=(1, 0), bias=False)\n      (bn): BatchNorm2d(384, eps=0.001, momentum=0.1, affine=True, track_running_stats=True)\n    )\n    (branch_pool): BasicConv2d(\n      (conv): Conv2d(1280, 192, kernel_size=(1, 1), stride=(1, 1), bias=False)\n      (bn): BatchNorm2d(192, eps=0.001, momentum=0.1, affine=True, track_running_stats=True)\n    )\n  )\n  (Mixed_7c): InceptionE(\n    (branch1x1): BasicConv2d(\n      (conv): Conv2d(2048, 320, kernel_size=(1, 1), stride=(1, 1), bias=False)\n      (bn): BatchNorm2d(320, eps=0.001, momentum=0.1, affine=True, track_running_stats=True)\n    )\n    (branch3x3_1): BasicConv2d(\n      (conv): Conv2d(2048, 384, kernel_size=(1, 1), stride=(1, 1), bias=False)\n      (bn): BatchNorm2d(384, eps=0.001, momentum=0.1, affine=True, track_running_stats=True)\n    )\n    (branch3x3_2a): BasicConv2d(\n      (conv): Conv2d(384, 384, kernel_size=(1, 3), stride=(1, 1), padding=(0, 1), bias=False)\n      (bn): BatchNorm2d(384, eps=0.001, momentum=0.1, affine=True, track_running_stats=True)\n    )\n    (branch3x3_2b): BasicConv2d(\n      (conv): Conv2d(384, 384, kernel_size=(3, 1), stride=(1, 1), padding=(1, 0), bias=False)\n      (bn): BatchNorm2d(384, eps=0.001, momentum=0.1, affine=True, track_running_stats=True)\n    )\n    (branch3x3dbl_1): BasicConv2d(\n      (conv): Conv2d(2048, 448, kernel_size=(1, 1), stride=(1, 1), bias=False)\n      (bn): BatchNorm2d(448, eps=0.001, momentum=0.1, affine=True, track_running_stats=True)\n    )\n    (branch3x3dbl_2): BasicConv2d(\n      (conv): Conv2d(448, 384, kernel_size=(3, 3), stride=(1, 1), padding=(1, 1), bias=False)\n      (bn): BatchNorm2d(384, eps=0.001, momentum=0.1, affine=True, track_running_stats=True)\n    )\n    (branch3x3dbl_3a): BasicConv2d(\n      (conv): Conv2d(384, 384, kernel_size=(1, 3), stride=(1, 1), padding=(0, 1), bias=False)\n      (bn): BatchNorm2d(384, eps=0.001, momentum=0.1, affine=True, track_running_stats=True)\n    )\n    (branch3x3dbl_3b): BasicConv2d(\n      (conv): Conv2d(384, 384, kernel_size=(3, 1), stride=(1, 1), padding=(1, 0), bias=False)\n      (bn): BatchNorm2d(384, eps=0.001, momentum=0.1, affine=True, track_running_stats=True)\n    )\n    (branch_pool): BasicConv2d(\n      (conv): Conv2d(2048, 192, kernel_size=(1, 1), stride=(1, 1), bias=False)\n      (bn): BatchNorm2d(192, eps=0.001, momentum=0.1, affine=True, track_running_stats=True)\n    )\n  )\n  (fc): Linear(in_features=2048, out_features=1000, bias=True)\n)"
          },
          "metadata": {}
        }
      ]
    },
    {
      "metadata": {
        "trusted": true,
        "_uuid": "0c352e8d8e7039ddfbc50bfd7921b0c77eaf0a21"
      },
      "cell_type": "code",
      "source": "# Freeze all layers, change fully connected layer from 1000 outputs to our 28 label output, unfreeze last layer\n# How to change this from single classification to multilabel classification?\n# \n\nif GENERATE_FEATURES:\n    for name, param in model.named_parameters():\n        param.requires_grad = False\n    n_features = model.fc.in_features\n    model.fc = nn.Linear(n_features, len(LABELS))",
      "execution_count": 19,
      "outputs": []
    },
    {
      "metadata": {
        "_uuid": "7f3cf8091c8333d30f3cb282cfb93b2083371ff4"
      },
      "cell_type": "markdown",
      "source": "# Feature Extraction "
    },
    {
      "metadata": {
        "_uuid": "b1fd03476af1966fe8100cd7ba3fb63a9cce6c5e"
      },
      "cell_type": "markdown",
      "source": "### Forward Hook for Feature Extraction\n\nhttps://discuss.pytorch.org/t/how-to-get-separate-conv-feature-map-from-pretrained-resnet/3479/4?u=justusschock"
    },
    {
      "metadata": {
        "trusted": true,
        "_uuid": "ddcb17ad13f7d02c30ca0a5358cac869e3faa229"
      },
      "cell_type": "code",
      "source": "# model",
      "execution_count": 20,
      "outputs": []
    },
    {
      "metadata": {
        "trusted": true,
        "_uuid": "27e9e17f62143fdfc31466dc98c08bcd1d6217ad"
      },
      "cell_type": "code",
      "source": "files = iter([f'{str(num)}-{str(num + 255)}.pth' for num in range(0, len(df.Target.tolist()), 256)])",
      "execution_count": 21,
      "outputs": []
    },
    {
      "metadata": {
        "trusted": true,
        "_uuid": "29b5d9143008ea2f63bb94bc0218e5f71c73cabc"
      },
      "cell_type": "code",
      "source": "feature_dir = Path('Features')\nfeature_dir.mkdir(parents=True, exist_ok=True)",
      "execution_count": 22,
      "outputs": []
    },
    {
      "metadata": {
        "trusted": true,
        "_uuid": "66f06fdb509df4f940d62c5eb99dacc1d36ee67f"
      },
      "cell_type": "code",
      "source": "# features = []\nsave_pool = Pool(32)\ndef hook(module, input, output):\n    save_pool.apply_async(torch.save, args=(input[0].squeeze(), Path('Features') / next(files)))\n\nmodel.fc.register_forward_hook(hook)\n\n#     def __init__(self, num_classes=1000, aux_logits=True, transform_input=False):\n#         super(Inception3, self).__init__()\n#         self.aux_logits = aux_logits\n#         self.transform_input = transform_input\n#         self.Conv2d_1a_3x3 = BasicConv2d(3, 32, kernel_size=3, stride=2)\n#         self.Conv2d_2a_3x3 = BasicConv2d(32, 32, kernel_size=3)\n#         self.Conv2d_2b_3x3 = BasicConv2d(32, 64, kernel_size=3, padding=1)\n#         self.Conv2d_3b_1x1 = BasicConv2d(64, 80, kernel_size=1)\n#         self.Conv2d_4a_3x3 = BasicConv2d(80, 192, kernel_size=3)\n#         self.Mixed_5b = InceptionA(192, pool_features=32)\n#         self.Mixed_5c = InceptionA(256, pool_features=64)\n#         self.Mixed_5d = InceptionA(288, pool_features=64)\n#         self.Mixed_6a = InceptionB(288)\n#         self.Mixed_6b = InceptionC(768, channels_7x7=128)\n#         self.Mixed_6c = InceptionC(768, channels_7x7=160)\n#         self.Mixed_6d = InceptionC(768, channels_7x7=160)\n#         self.Mixed_6e = InceptionC(768, channels_7x7=192)\n#         if aux_logits:\n#             self.AuxLogits = InceptionAux(768, num_classes)\n#         self.Mixed_7a = InceptionD(768)\n#         self.Mixed_7b = InceptionE(1280)\n#         self.Mixed_7c = InceptionE(2048)\n#         self.fc = nn.Linear(2048, num_classes)",
      "execution_count": 23,
      "outputs": [
        {
          "output_type": "execute_result",
          "execution_count": 23,
          "data": {
            "text/plain": "<torch.utils.hooks.RemovableHandle at 0x7efb96b37da0>"
          },
          "metadata": {}
        }
      ]
    },
    {
      "metadata": {
        "_uuid": "ef10dbe93b8a71a7c4caccf7b37b2763b8c297c4"
      },
      "cell_type": "markdown",
      "source": "### This cell iterates over the entire dataset and serializes the last layer of features to disk. This has already been run and the output is loaded in the Draft Environment section from that previous kernel."
    },
    {
      "metadata": {
        "trusted": true,
        "_uuid": "e95e2879afa4078d1d8f97151b0ce3fd91960a71"
      },
      "cell_type": "code",
      "source": "# model.eval()\n# with torch.no_grad():\n#     for X, y in val_dl:\n#         X = X.to(device)\n#         model(X)",
      "execution_count": null,
      "outputs": []
    },
    {
      "metadata": {
        "_uuid": "47c76eecb0c0714648fc2bfed90edf8138c2eb3c"
      },
      "cell_type": "markdown",
      "source": "# Load Serialized Features"
    },
    {
      "metadata": {
        "trusted": true,
        "_uuid": "c6b46069a8b5d2175bd3f3aa5d95bedff8f26239"
      },
      "cell_type": "code",
      "source": "features_dir = Path('../input/inceptionv3-wip/Features/')\nfeatures_list = []\nfor path in sorted(list(features_dir.iterdir()), key=lambda x: int(x.name[:x.name.find('-')])):\n    batch = torch.load(path, map_location='cpu')\n    for features in batch:\n        features_list.append(features.numpy())",
      "execution_count": 25,
      "outputs": []
    },
    {
      "metadata": {
        "trusted": true,
        "_uuid": "eb7c182f06ebd7c7203ad5ada0b19f0545e15dff"
      },
      "cell_type": "code",
      "source": "len(features_list) == len(df)",
      "execution_count": 27,
      "outputs": [
        {
          "output_type": "execute_result",
          "execution_count": 27,
          "data": {
            "text/plain": "True"
          },
          "metadata": {}
        }
      ]
    },
    {
      "metadata": {
        "trusted": true,
        "_uuid": "9d34dc61ce49a9b7f23a36b7110a39770bc3076f"
      },
      "cell_type": "code",
      "source": "all(len(x) == 2048 for x in features_list)",
      "execution_count": 28,
      "outputs": [
        {
          "output_type": "execute_result",
          "execution_count": 28,
          "data": {
            "text/plain": "True"
          },
          "metadata": {}
        }
      ]
    },
    {
      "metadata": {
        "trusted": true,
        "_uuid": "741eb451d0f5b1e3c024d067a495c9746ac621ef"
      },
      "cell_type": "code",
      "source": "train_df = df.copy()\ntrain_df['Features'] = features_list\ntrain_df",
      "execution_count": 30,
      "outputs": [
        {
          "output_type": "execute_result",
          "execution_count": 30,
          "data": {
            "text/plain": "                                         Id                        ...                                                                   Features\n0      00070df0-bbc3-11e8-b2bc-ac1f6b6435d0                        ...                          [0.12411182583709185, 0.08365667215770235, 0.2...\n1      000a6c98-bb9b-11e8-b2b9-ac1f6b6435d0                        ...                          [0.2383250737146371, 0.2540647619471462, 0.139...\n2      000a9596-bbc4-11e8-b2bc-ac1f6b6435d0                        ...                          [0.9505996141664537, 0.11480713996375314, 0.40...\n3      000c99ba-bba4-11e8-b2b9-ac1f6b6435d0                        ...                          [0.25771811537087075, 0.24072639231043996, 0.0...\n4      001838f8-bbca-11e8-b2bc-ac1f6b6435d0                        ...                          [0.12317871190470109, 0.17828855423126938, 0.0...\n5      001bcdd2-bbb2-11e8-b2ba-ac1f6b6435d0                        ...                          [0.31343888030723516, 0.3833162575437856, 0.03...\n6      0020af02-bbba-11e8-b2ba-ac1f6b6435d0                        ...                          [0.5904866873325467, 0.16016546078262756, 0.01...\n7      002679c2-bbb6-11e8-b2ba-ac1f6b6435d0                        ...                          [0.2131535682508308, 0.5004903074115605, 0.034...\n8      00285ce4-bba0-11e8-b2b9-ac1f6b6435d0                        ...                          [0.6288420361590181, 0.11732089542205879, 0.08...\n9      002daad6-bbc9-11e8-b2bc-ac1f6b6435d0                        ...                          [0.6231955724993573, 0.384059140617928, 0.1117...\n10     002ff91e-bbb8-11e8-b2ba-ac1f6b6435d0                        ...                          [0.3643741158908321, 0.247392495575382, 0.2575...\n11     00301238-bbb2-11e8-b2ba-ac1f6b6435d0                        ...                          [0.8556781877785765, 0.37928150828892543, 0.14...\n12     0032a07e-bba9-11e8-b2ba-ac1f6b6435d0                        ...                          [0.7177639629426659, 0.05061297049835939, 0.11...\n13     00344514-bbc2-11e8-b2bb-ac1f6b6435d0                        ...                          [0.5745157702720238, 0.1494615363887884, 0.463...\n14     00357b1e-bba9-11e8-b2ba-ac1f6b6435d0                        ...                          [0.5343038216383601, 0.36370093979805534, 0.00...\n15     00383b44-bbbb-11e8-b2ba-ac1f6b6435d0                        ...                          [0.9791869832274218, 0.44130471741576005, 0.24...\n16     0038d6a6-bb9a-11e8-b2b9-ac1f6b6435d0                        ...                          [0.13097788271615085, 0.1689492244522106, 0.01...\n17     003957a8-bbb7-11e8-b2ba-ac1f6b6435d0                        ...                          [0.24968833915568156, 0.6113823780307053, 0.01...\n18     003feb6e-bbca-11e8-b2bc-ac1f6b6435d0                        ...                          [0.09873260217520186, 0.27408887910922797, 0.2...\n19     0042017c-bba4-11e8-b2b9-ac1f6b6435d0                        ...                          [0.824242343765394, 0.2243506001334594, 0.6246...\n20     00456fd2-bb9b-11e8-b2b9-ac1f6b6435d0                        ...                          [0.18574057243682005, 0.5004047185195387, 0.09...\n21     0047c984-bba6-11e8-b2ba-ac1f6b6435d0                        ...                          [0.5446697350843657, 0.29731560645740185, 0.14...\n22     00481c70-bba3-11e8-b2b9-ac1f6b6435d0                        ...                          [0.6813957481976195, 0.16504229226345157, 0.89...\n23     004a2b84-bbc4-11e8-b2bc-ac1f6b6435d0                        ...                          [0.7159695364078804, 0.25495667821159157, 0.08...\n24     004b47de-bbca-11e8-b2bc-ac1f6b6435d0                        ...                          [0.8189802891439314, 0.22004182987713683, 0.02...\n25     004bf4c6-bbc6-11e8-b2bc-ac1f6b6435d0                        ...                          [0.5196660069533376, 0.05101274162036173, 0.09...\n26     004d8a0e-bbc4-11e8-b2bc-ac1f6b6435d0                        ...                          [0.470050624790852, 0.06617986767203568, 0.142...\n27     004efaa2-bba5-11e8-b2ba-ac1f6b6435d0                        ...                          [0.6461191511866387, 0.30250978857319977, 0.01...\n28     004f7c66-bb9b-11e8-b2b9-ac1f6b6435d0                        ...                          [0.10695367113222175, 0.23892826686696478, 0.0...\n29     004f8abc-bbb9-11e8-b2ba-ac1f6b6435d0                        ...                          [0.38852849473061996, 0.6040491943657755, 0.23...\n...                                     ...                        ...                                                                        ...\n31042  ffb00d58-bba3-11e8-b2b9-ac1f6b6435d0                        ...                          [0.8323854956357102, 0.2911735347038396, 0.071...\n31043  ffb49f82-bbab-11e8-b2ba-ac1f6b6435d0                        ...                          [0.26917101065231563, 0.24365211797053943, 0.0...\n31044  ffb5effa-bbaf-11e8-b2ba-ac1f6b6435d0                        ...                          [0.4589561516195263, 0.23352704164035248, 0.06...\n31045  ffb610c6-bbb8-11e8-b2ba-ac1f6b6435d0                        ...                          [0.7208395322642543, 0.320317910183651, 0.1362...\n31046  ffb6fb76-bba9-11e8-b2ba-ac1f6b6435d0                        ...                          [0.8732390883338157, 0.18412387435822386, 0.03...\n31047  ffb74ef0-bbae-11e8-b2ba-ac1f6b6435d0                        ...                          [0.5443927377231423, 0.1696855417190917, 0.549...\n31048  ffbebc4e-bb9a-11e8-b2b9-ac1f6b6435d0                        ...                          [0.13768086938244492, 0.5219969684058913, 0.63...\n31049  ffc30612-bbbf-11e8-b2bb-ac1f6b6435d0                        ...                          [0.3457953710997354, 0.021995617899291067, 0.0...\n31050  ffc8820a-bbc8-11e8-b2bc-ac1f6b6435d0                        ...                          [0.6750881799042768, 0.14526648475812584, 0.00...\n31051  ffcebbc8-bbc5-11e8-b2bc-ac1f6b6435d0                        ...                          [0.796503278801952, 0.11056414233617215, 0.193...\n31052  ffced1a2-bbad-11e8-b2ba-ac1f6b6435d0                        ...                          [0.16273868500429028, 0.36303785781377496, 0.1...\n31053  ffcf84d6-bbac-11e8-b2ba-ac1f6b6435d0                        ...                          [0.34310957421841654, 0.39071950532609245, 0.1...\n31054  ffd23be4-bba3-11e8-b2b9-ac1f6b6435d0                        ...                          [0.5974514510051003, 0.2829599972329452, 0.062...\n31055  ffd298f4-bbc7-11e8-b2bc-ac1f6b6435d0                        ...                          [0.44083517307030595, 0.1480938045902616, 0.03...\n31056  ffd2b880-bba8-11e8-b2ba-ac1f6b6435d0                        ...                          [0.7319429272886244, 0.07798135822004985, 0.01...\n31057  ffd45d0c-bbad-11e8-b2ba-ac1f6b6435d0                        ...                          [0.3549684766219097, 0.31132652290309554, 0.06...\n31058  ffd96262-bbc0-11e8-b2bb-ac1f6b6435d0                        ...                          [0.376337411868437, 0.08222257018730864, 0.025...\n31059  ffdb9014-bba2-11e8-b2b9-ac1f6b6435d0                        ...                          [0.1272676733552402, 0.23959262466551934, 0.07...\n31060  ffdbe064-bbbb-11e8-b2ba-ac1f6b6435d0                        ...                          [0.578935378309853, 0.2268186533591686, 0.3352...\n31061  ffdcc5e4-bbaa-11e8-b2ba-ac1f6b6435d0                        ...                          [0.7089825096916229, 0.22815251923175273, 0.34...\n31062  ffe454e6-bb99-11e8-b2b9-ac1f6b6435d0                        ...                          [1.0091416587998192, 0.2230846132746759, 0.194...\n31063  ffe55eba-bbba-11e8-b2ba-ac1f6b6435d0                        ...                          [0.8261384086226876, 0.1909609708098772, 0.071...\n31064  ffe61798-bbc3-11e8-b2bc-ac1f6b6435d0                        ...                          [1.0251175790224696, 0.17320469518451317, 0.01...\n31065  ffe8cf0c-bba9-11e8-b2ba-ac1f6b6435d0                        ...                          [0.19868523579532402, 0.23656518609793067, 0.1...\n31066  ffeae6f0-bbc9-11e8-b2bc-ac1f6b6435d0                        ...                          [0.1774877675002708, 0.14358937440761912, 0.05...\n31067  ffed4430-bbac-11e8-b2ba-ac1f6b6435d0                        ...                          [0.18649459347741953, 0.6525061688774536, 0.18...\n31068  fff0a998-bbae-11e8-b2ba-ac1f6b6435d0                        ...                          [0.15034585832814082, 0.6512950299613497, 0.31...\n31069  fff189d8-bbab-11e8-b2ba-ac1f6b6435d0                        ...                          [1.0629720504368103, 0.16184420698100835, 0.18...\n31070  fffdf7e0-bbc4-11e8-b2bc-ac1f6b6435d0                        ...                          [0.6704831112547603, 0.2303567044303846, 0.050...\n31071  fffe0ffe-bbc0-11e8-b2bb-ac1f6b6435d0                        ...                          [0.1927789445157283, 0.4395431763340537, 0.055...\n\n[31072 rows x 3 columns]",
            "text/html": "<div>\n<style scoped>\n    .dataframe tbody tr th:only-of-type {\n        vertical-align: middle;\n    }\n\n    .dataframe tbody tr th {\n        vertical-align: top;\n    }\n\n    .dataframe thead th {\n        text-align: right;\n    }\n</style>\n<table border=\"1\" class=\"dataframe\">\n  <thead>\n    <tr style=\"text-align: right;\">\n      <th></th>\n      <th>Id</th>\n      <th>Target</th>\n      <th>Features</th>\n    </tr>\n  </thead>\n  <tbody>\n    <tr>\n      <th>0</th>\n      <td>00070df0-bbc3-11e8-b2bc-ac1f6b6435d0</td>\n      <td>16 0</td>\n      <td>[0.12411182583709185, 0.08365667215770235, 0.2...</td>\n    </tr>\n    <tr>\n      <th>1</th>\n      <td>000a6c98-bb9b-11e8-b2b9-ac1f6b6435d0</td>\n      <td>7 1 2 0</td>\n      <td>[0.2383250737146371, 0.2540647619471462, 0.139...</td>\n    </tr>\n    <tr>\n      <th>2</th>\n      <td>000a9596-bbc4-11e8-b2bc-ac1f6b6435d0</td>\n      <td>5</td>\n      <td>[0.9505996141664537, 0.11480713996375314, 0.40...</td>\n    </tr>\n    <tr>\n      <th>3</th>\n      <td>000c99ba-bba4-11e8-b2b9-ac1f6b6435d0</td>\n      <td>1</td>\n      <td>[0.25771811537087075, 0.24072639231043996, 0.0...</td>\n    </tr>\n    <tr>\n      <th>4</th>\n      <td>001838f8-bbca-11e8-b2bc-ac1f6b6435d0</td>\n      <td>18</td>\n      <td>[0.12317871190470109, 0.17828855423126938, 0.0...</td>\n    </tr>\n    <tr>\n      <th>5</th>\n      <td>001bcdd2-bbb2-11e8-b2ba-ac1f6b6435d0</td>\n      <td>0</td>\n      <td>[0.31343888030723516, 0.3833162575437856, 0.03...</td>\n    </tr>\n    <tr>\n      <th>6</th>\n      <td>0020af02-bbba-11e8-b2ba-ac1f6b6435d0</td>\n      <td>25 2</td>\n      <td>[0.5904866873325467, 0.16016546078262756, 0.01...</td>\n    </tr>\n    <tr>\n      <th>7</th>\n      <td>002679c2-bbb6-11e8-b2ba-ac1f6b6435d0</td>\n      <td>0</td>\n      <td>[0.2131535682508308, 0.5004903074115605, 0.034...</td>\n    </tr>\n    <tr>\n      <th>8</th>\n      <td>00285ce4-bba0-11e8-b2b9-ac1f6b6435d0</td>\n      <td>2 0</td>\n      <td>[0.6288420361590181, 0.11732089542205879, 0.08...</td>\n    </tr>\n    <tr>\n      <th>9</th>\n      <td>002daad6-bbc9-11e8-b2bc-ac1f6b6435d0</td>\n      <td>7</td>\n      <td>[0.6231955724993573, 0.384059140617928, 0.1117...</td>\n    </tr>\n    <tr>\n      <th>10</th>\n      <td>002ff91e-bbb8-11e8-b2ba-ac1f6b6435d0</td>\n      <td>23</td>\n      <td>[0.3643741158908321, 0.247392495575382, 0.2575...</td>\n    </tr>\n    <tr>\n      <th>11</th>\n      <td>00301238-bbb2-11e8-b2ba-ac1f6b6435d0</td>\n      <td>21</td>\n      <td>[0.8556781877785765, 0.37928150828892543, 0.14...</td>\n    </tr>\n    <tr>\n      <th>12</th>\n      <td>0032a07e-bba9-11e8-b2ba-ac1f6b6435d0</td>\n      <td>24 0</td>\n      <td>[0.7177639629426659, 0.05061297049835939, 0.11...</td>\n    </tr>\n    <tr>\n      <th>13</th>\n      <td>00344514-bbc2-11e8-b2bb-ac1f6b6435d0</td>\n      <td>23</td>\n      <td>[0.5745157702720238, 0.1494615363887884, 0.463...</td>\n    </tr>\n    <tr>\n      <th>14</th>\n      <td>00357b1e-bba9-11e8-b2ba-ac1f6b6435d0</td>\n      <td>6 2</td>\n      <td>[0.5343038216383601, 0.36370093979805534, 0.00...</td>\n    </tr>\n    <tr>\n      <th>15</th>\n      <td>00383b44-bbbb-11e8-b2ba-ac1f6b6435d0</td>\n      <td>25</td>\n      <td>[0.9791869832274218, 0.44130471741576005, 0.24...</td>\n    </tr>\n    <tr>\n      <th>16</th>\n      <td>0038d6a6-bb9a-11e8-b2b9-ac1f6b6435d0</td>\n      <td>25 0</td>\n      <td>[0.13097788271615085, 0.1689492244522106, 0.01...</td>\n    </tr>\n    <tr>\n      <th>17</th>\n      <td>003957a8-bbb7-11e8-b2ba-ac1f6b6435d0</td>\n      <td>25</td>\n      <td>[0.24968833915568156, 0.6113823780307053, 0.01...</td>\n    </tr>\n    <tr>\n      <th>18</th>\n      <td>003feb6e-bbca-11e8-b2bc-ac1f6b6435d0</td>\n      <td>0</td>\n      <td>[0.09873260217520186, 0.27408887910922797, 0.2...</td>\n    </tr>\n    <tr>\n      <th>19</th>\n      <td>0042017c-bba4-11e8-b2b9-ac1f6b6435d0</td>\n      <td>25 11</td>\n      <td>[0.824242343765394, 0.2243506001334594, 0.6246...</td>\n    </tr>\n    <tr>\n      <th>20</th>\n      <td>00456fd2-bb9b-11e8-b2b9-ac1f6b6435d0</td>\n      <td>7 1 2 0</td>\n      <td>[0.18574057243682005, 0.5004047185195387, 0.09...</td>\n    </tr>\n    <tr>\n      <th>21</th>\n      <td>0047c984-bba6-11e8-b2ba-ac1f6b6435d0</td>\n      <td>11</td>\n      <td>[0.5446697350843657, 0.29731560645740185, 0.14...</td>\n    </tr>\n    <tr>\n      <th>22</th>\n      <td>00481c70-bba3-11e8-b2b9-ac1f6b6435d0</td>\n      <td>25 2</td>\n      <td>[0.6813957481976195, 0.16504229226345157, 0.89...</td>\n    </tr>\n    <tr>\n      <th>23</th>\n      <td>004a2b84-bbc4-11e8-b2bc-ac1f6b6435d0</td>\n      <td>25 0</td>\n      <td>[0.7159695364078804, 0.25495667821159157, 0.08...</td>\n    </tr>\n    <tr>\n      <th>24</th>\n      <td>004b47de-bbca-11e8-b2bc-ac1f6b6435d0</td>\n      <td>25 3</td>\n      <td>[0.8189802891439314, 0.22004182987713683, 0.02...</td>\n    </tr>\n    <tr>\n      <th>25</th>\n      <td>004bf4c6-bbc6-11e8-b2bc-ac1f6b6435d0</td>\n      <td>16 6</td>\n      <td>[0.5196660069533376, 0.05101274162036173, 0.09...</td>\n    </tr>\n    <tr>\n      <th>26</th>\n      <td>004d8a0e-bbc4-11e8-b2bc-ac1f6b6435d0</td>\n      <td>25 2</td>\n      <td>[0.470050624790852, 0.06617986767203568, 0.142...</td>\n    </tr>\n    <tr>\n      <th>27</th>\n      <td>004efaa2-bba5-11e8-b2ba-ac1f6b6435d0</td>\n      <td>23</td>\n      <td>[0.6461191511866387, 0.30250978857319977, 0.01...</td>\n    </tr>\n    <tr>\n      <th>28</th>\n      <td>004f7c66-bb9b-11e8-b2b9-ac1f6b6435d0</td>\n      <td>25</td>\n      <td>[0.10695367113222175, 0.23892826686696478, 0.0...</td>\n    </tr>\n    <tr>\n      <th>29</th>\n      <td>004f8abc-bbb9-11e8-b2ba-ac1f6b6435d0</td>\n      <td>12 0</td>\n      <td>[0.38852849473061996, 0.6040491943657755, 0.23...</td>\n    </tr>\n    <tr>\n      <th>...</th>\n      <td>...</td>\n      <td>...</td>\n      <td>...</td>\n    </tr>\n    <tr>\n      <th>31042</th>\n      <td>ffb00d58-bba3-11e8-b2b9-ac1f6b6435d0</td>\n      <td>25 18 0</td>\n      <td>[0.8323854956357102, 0.2911735347038396, 0.071...</td>\n    </tr>\n    <tr>\n      <th>31043</th>\n      <td>ffb49f82-bbab-11e8-b2ba-ac1f6b6435d0</td>\n      <td>25 2 0</td>\n      <td>[0.26917101065231563, 0.24365211797053943, 0.0...</td>\n    </tr>\n    <tr>\n      <th>31044</th>\n      <td>ffb5effa-bbaf-11e8-b2ba-ac1f6b6435d0</td>\n      <td>0</td>\n      <td>[0.4589561516195263, 0.23352704164035248, 0.06...</td>\n    </tr>\n    <tr>\n      <th>31045</th>\n      <td>ffb610c6-bbb8-11e8-b2ba-ac1f6b6435d0</td>\n      <td>11 0</td>\n      <td>[0.7208395322642543, 0.320317910183651, 0.1362...</td>\n    </tr>\n    <tr>\n      <th>31046</th>\n      <td>ffb6fb76-bba9-11e8-b2ba-ac1f6b6435d0</td>\n      <td>0</td>\n      <td>[0.8732390883338157, 0.18412387435822386, 0.03...</td>\n    </tr>\n    <tr>\n      <th>31047</th>\n      <td>ffb74ef0-bbae-11e8-b2ba-ac1f6b6435d0</td>\n      <td>7 0</td>\n      <td>[0.5443927377231423, 0.1696855417190917, 0.549...</td>\n    </tr>\n    <tr>\n      <th>31048</th>\n      <td>ffbebc4e-bb9a-11e8-b2b9-ac1f6b6435d0</td>\n      <td>4</td>\n      <td>[0.13768086938244492, 0.5219969684058913, 0.63...</td>\n    </tr>\n    <tr>\n      <th>31049</th>\n      <td>ffc30612-bbbf-11e8-b2bb-ac1f6b6435d0</td>\n      <td>3 0</td>\n      <td>[0.3457953710997354, 0.021995617899291067, 0.0...</td>\n    </tr>\n    <tr>\n      <th>31050</th>\n      <td>ffc8820a-bbc8-11e8-b2bc-ac1f6b6435d0</td>\n      <td>25 7</td>\n      <td>[0.6750881799042768, 0.14526648475812584, 0.00...</td>\n    </tr>\n    <tr>\n      <th>31051</th>\n      <td>ffcebbc8-bbc5-11e8-b2bc-ac1f6b6435d0</td>\n      <td>19 2 0</td>\n      <td>[0.796503278801952, 0.11056414233617215, 0.193...</td>\n    </tr>\n    <tr>\n      <th>31052</th>\n      <td>ffced1a2-bbad-11e8-b2ba-ac1f6b6435d0</td>\n      <td>25 7</td>\n      <td>[0.16273868500429028, 0.36303785781377496, 0.1...</td>\n    </tr>\n    <tr>\n      <th>31053</th>\n      <td>ffcf84d6-bbac-11e8-b2ba-ac1f6b6435d0</td>\n      <td>0</td>\n      <td>[0.34310957421841654, 0.39071950532609245, 0.1...</td>\n    </tr>\n    <tr>\n      <th>31054</th>\n      <td>ffd23be4-bba3-11e8-b2b9-ac1f6b6435d0</td>\n      <td>5</td>\n      <td>[0.5974514510051003, 0.2829599972329452, 0.062...</td>\n    </tr>\n    <tr>\n      <th>31055</th>\n      <td>ffd298f4-bbc7-11e8-b2bc-ac1f6b6435d0</td>\n      <td>25 0</td>\n      <td>[0.44083517307030595, 0.1480938045902616, 0.03...</td>\n    </tr>\n    <tr>\n      <th>31056</th>\n      <td>ffd2b880-bba8-11e8-b2ba-ac1f6b6435d0</td>\n      <td>25 3 0</td>\n      <td>[0.7319429272886244, 0.07798135822004985, 0.01...</td>\n    </tr>\n    <tr>\n      <th>31057</th>\n      <td>ffd45d0c-bbad-11e8-b2ba-ac1f6b6435d0</td>\n      <td>25</td>\n      <td>[0.3549684766219097, 0.31132652290309554, 0.06...</td>\n    </tr>\n    <tr>\n      <th>31058</th>\n      <td>ffd96262-bbc0-11e8-b2bb-ac1f6b6435d0</td>\n      <td>4</td>\n      <td>[0.376337411868437, 0.08222257018730864, 0.025...</td>\n    </tr>\n    <tr>\n      <th>31059</th>\n      <td>ffdb9014-bba2-11e8-b2b9-ac1f6b6435d0</td>\n      <td>0</td>\n      <td>[0.1272676733552402, 0.23959262466551934, 0.07...</td>\n    </tr>\n    <tr>\n      <th>31060</th>\n      <td>ffdbe064-bbbb-11e8-b2ba-ac1f6b6435d0</td>\n      <td>23</td>\n      <td>[0.578935378309853, 0.2268186533591686, 0.3352...</td>\n    </tr>\n    <tr>\n      <th>31061</th>\n      <td>ffdcc5e4-bbaa-11e8-b2ba-ac1f6b6435d0</td>\n      <td>0</td>\n      <td>[0.7089825096916229, 0.22815251923175273, 0.34...</td>\n    </tr>\n    <tr>\n      <th>31062</th>\n      <td>ffe454e6-bb99-11e8-b2b9-ac1f6b6435d0</td>\n      <td>16 14</td>\n      <td>[1.0091416587998192, 0.2230846132746759, 0.194...</td>\n    </tr>\n    <tr>\n      <th>31063</th>\n      <td>ffe55eba-bbba-11e8-b2ba-ac1f6b6435d0</td>\n      <td>5 0</td>\n      <td>[0.8261384086226876, 0.1909609708098772, 0.071...</td>\n    </tr>\n    <tr>\n      <th>31064</th>\n      <td>ffe61798-bbc3-11e8-b2bc-ac1f6b6435d0</td>\n      <td>19 23</td>\n      <td>[1.0251175790224696, 0.17320469518451317, 0.01...</td>\n    </tr>\n    <tr>\n      <th>31065</th>\n      <td>ffe8cf0c-bba9-11e8-b2ba-ac1f6b6435d0</td>\n      <td>18</td>\n      <td>[0.19868523579532402, 0.23656518609793067, 0.1...</td>\n    </tr>\n    <tr>\n      <th>31066</th>\n      <td>ffeae6f0-bbc9-11e8-b2bc-ac1f6b6435d0</td>\n      <td>25 0</td>\n      <td>[0.1774877675002708, 0.14358937440761912, 0.05...</td>\n    </tr>\n    <tr>\n      <th>31067</th>\n      <td>ffed4430-bbac-11e8-b2ba-ac1f6b6435d0</td>\n      <td>21</td>\n      <td>[0.18649459347741953, 0.6525061688774536, 0.18...</td>\n    </tr>\n    <tr>\n      <th>31068</th>\n      <td>fff0a998-bbae-11e8-b2ba-ac1f6b6435d0</td>\n      <td>5</td>\n      <td>[0.15034585832814082, 0.6512950299613497, 0.31...</td>\n    </tr>\n    <tr>\n      <th>31069</th>\n      <td>fff189d8-bbab-11e8-b2ba-ac1f6b6435d0</td>\n      <td>7</td>\n      <td>[1.0629720504368103, 0.16184420698100835, 0.18...</td>\n    </tr>\n    <tr>\n      <th>31070</th>\n      <td>fffdf7e0-bbc4-11e8-b2bc-ac1f6b6435d0</td>\n      <td>25 2 21</td>\n      <td>[0.6704831112547603, 0.2303567044303846, 0.050...</td>\n    </tr>\n    <tr>\n      <th>31071</th>\n      <td>fffe0ffe-bbc0-11e8-b2bb-ac1f6b6435d0</td>\n      <td>2 0</td>\n      <td>[0.1927789445157283, 0.4395431763340537, 0.055...</td>\n    </tr>\n  </tbody>\n</table>\n<p>31072 rows × 3 columns</p>\n</div>"
          },
          "metadata": {}
        }
      ]
    },
    {
      "metadata": {
        "trusted": true,
        "_uuid": "b133277e850c2ad53f8b02e156ef3af239692104"
      },
      "cell_type": "code",
      "source": "train_df.to_csv('train_df.csv')",
      "execution_count": null,
      "outputs": []
    },
    {
      "metadata": {
        "_uuid": "47744934fb2cc55e5babc9383b275c247e2cc5b7"
      },
      "cell_type": "markdown",
      "source": "# Criterion"
    },
    {
      "metadata": {
        "_uuid": "62843778835543e5b529508f6102a70c808b2384"
      },
      "cell_type": "markdown",
      "source": "# Optimizer"
    },
    {
      "metadata": {
        "_uuid": "f9b028504b84d4845e29e943e669833c6863e5bd"
      },
      "cell_type": "markdown",
      "source": "# Train Loop"
    },
    {
      "metadata": {
        "_uuid": "5f204eb88aa3bc714eb18be41f5ff54425b733b8"
      },
      "cell_type": "markdown",
      "source": "# Evaluation"
    },
    {
      "metadata": {
        "trusted": true,
        "_uuid": "0078421556d704943c2319ef793c760c1b57bc24"
      },
      "cell_type": "code",
      "source": "",
      "execution_count": null,
      "outputs": []
    }
  ],
  "metadata": {
    "kernelspec": {
      "display_name": "Python 3",
      "language": "python",
      "name": "python3"
    },
    "language_info": {
      "name": "python",
      "version": "3.6.6",
      "mimetype": "text/x-python",
      "codemirror_mode": {
        "name": "ipython",
        "version": 3
      },
      "pygments_lexer": "ipython3",
      "nbconvert_exporter": "python",
      "file_extension": ".py"
    }
  },
  "nbformat": 4,
  "nbformat_minor": 1
}